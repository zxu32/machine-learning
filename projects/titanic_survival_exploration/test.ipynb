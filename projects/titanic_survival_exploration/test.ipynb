{
 "cells": [
  {
   "cell_type": "code",
   "execution_count": 15,
   "metadata": {},
   "outputs": [
    {
     "name": "stdout",
     "output_type": "stream",
     "text": [
      "/Users/newcomputer/Google Drive/ComputerScience/Udacity_ML_NanoDegree/machine-learning\n/Users/newcomputer/Google Drive/ComputerScience/Udacity_ML_NanoDegree/machine-learning/titanic_data.csv\n"
     ]
    }
   ],
   "source": [
    "import pandas as pd\n",
    "import numpy as np\n",
    "import os\n",
    "\n",
    "# t1 = pd.Series(np.ones(5, dtype=int))\n",
    "cwd = os.getcwd()\n",
    "print(cwd)\n",
    "\n",
    "fullPath = os.path.realpath('titanic_data.csv')\n",
    "print(fullPath)\n",
    "\n",
    "# full_data2 = pd.read_csv('titanic_data.csv')\n",
    "full_data = pd.read_csv('../machine-learning/projects/titanic_survival_exploration/titanic_data.csv')\n",
    "# full_data = full_data.select_dtypes(include=[object])\n",
    "\n",
    "# full_data.head()"
   ]
  },
  {
   "cell_type": "code",
   "execution_count": 8,
   "metadata": {},
   "outputs": [],
   "source": [
    ""
   ]
  },
  {
   "cell_type": "code",
   "execution_count": null,
   "metadata": {},
   "outputs": [],
   "source": [
    ""
   ]
  }
 ],
 "metadata": {
  "kernelspec": {
   "display_name": "Python 2",
   "language": "python",
   "name": "python2"
  },
  "language_info": {
   "codemirror_mode": {
    "name": "ipython",
    "version": 2.0
   },
   "file_extension": ".py",
   "mimetype": "text/x-python",
   "name": "python",
   "nbconvert_exporter": "python",
   "pygments_lexer": "ipython2",
   "version": "2.7.6"
  }
 },
 "nbformat": 4,
 "nbformat_minor": 0
}